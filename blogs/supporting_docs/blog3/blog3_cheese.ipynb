{
 "cells": [
  {
   "cell_type": "markdown",
   "metadata": {},
   "source": [
    "# Predicting Wine Pairings with Cheeses - A Work In Progress\n",
    "\n",
    "I set out with a goal to use to build a model to predict proper wine pairings for cheeses based on cheese features. My current knowledge of categorical predictors is with Binary Logistic Regression which already limits the predictive power of my model to two categories. With this in mind I decided to try and create a model to predict red or white wine for cheeses. Firstly below are some general practices that are followed when pairing wines with cheeses gathered from Cheese.com and WineFolly.com."
   ]
  },
  {
   "cell_type": "markdown",
   "metadata": {},
   "source": [
    "## Cheese - Wine Pairings\n",
    "\n",
    "* A smooth, fatty cheese may go very well with a similarly smooth, slightly oily wine.\n",
    "* Sweet wine contrasts very well with a cheese with high acidity.\n",
    "* White wines go better with many cheeses than reds.\n",
    "* Not all red wines match with cheese. The most recommended are the fruity, light red wines.\n",
    "* Dry, fresh red wines are ideally suited to soft cheeses, especially goat ones.\n",
    "* A wine with good acidity may be complemented by very salted cheeses.\n",
    "* Dry champagnes are brilliant combination with bloomy white rinds.\n",
    "* The cheeses can be matched with beer or cider.\n",
    "* Try regional combination, the cheese and wine from the same region.\n",
    "\n",
    "### Known Cheese - Wine Pairings\n",
    "\n",
    "| Cheese           | Wine               | Red/White    |\n",
    "| ---------------- | ------------------ | ------------ |\n",
    "| Gruyere          | Pinot Noir         | Red          |\n",
    "| Blue Stilton     | Aged Port          | Red          |\n",
    "| Brie             | Champagne          | White        |\n",
    "| Gorgonzola       | Moscato d'Asti     | White        |\n",
    "| Idiazabal        | Tempranillo        | Red          |\n",
    "| Goat Cheese      | Sauvignon Blanc    | White        |\n",
    "| Aged Cheddar     | Cabernet Sauvignon | Red          |\n",
    "| Havarti          | Provence Rose      | White (Rose) |\n",
    "| Raclette         | Riesling           | White        |\n",
    "| Pecorino Toscano | Chianti Classico   | Red          |\n",
    "| Fiore Sardo      | Vermentino         | White        |\n",
    "| Edam             | Malbec             | Red          |\n",
    "| Gouda            | Pinot Grigio       | White        |\n",
    "| Mozzarella       | Sauvignon Blanc    | White        |\n",
    "| Provolone        | Chianti            | Red          |\n"
   ]
  },
  {
   "cell_type": "markdown",
   "metadata": {},
   "source": [
    "## The Cheese DataSet\n",
    "\n",
    "The cheese dataset I found was from the Government of Canada's website. it contains information on around 1400 cheeses produced in Canada. It includes features such as Moisture Percent, Fat Percent and Ripening Period. For the sake of time I cleaned the dataset to only look at numerical columns that were easy to clean - Moisture Percent and Fat Percent."
   ]
  },
  {
   "cell_type": "code",
   "execution_count": 206,
   "metadata": {},
   "outputs": [],
   "source": [
    "import json\n",
    "import pandas as pd\n",
    "import numpy as np\n",
    "from sklearn.preprocessing import StandardScaler\n",
    "from sklearn.linear_model import LogisticRegression\n",
    "import matplotlib.pyplot as plt\n",
    "\n",
    "from sklearn.metrics import confusion_matrix, plot_confusion_matrix,\\\n",
    "    precision_score, recall_score, accuracy_score, f1_score, log_loss,\\\n",
    "    roc_curve, roc_auc_score, classification_report"
   ]
  },
  {
   "cell_type": "code",
   "execution_count": 171,
   "metadata": {},
   "outputs": [],
   "source": [
    "# Import dataset\n",
    "with open('data/canadianCheeseDirectory.json') as f:\n",
    "    data = json.load(f)"
   ]
  },
  {
   "cell_type": "code",
   "execution_count": 172,
   "metadata": {},
   "outputs": [],
   "source": [
    "# Drop unnecessary Columns and Convert input variable columns from string to float type\n",
    "\n",
    "df = pd.DataFrame(data['CheeseDirectory'])\n",
    "df.head(3)\n",
    "df.drop(['CheeseId','CheeseNameFr','ManufacturerNameEn','ManufacturingTypeFr',\n",
    "         'ManufacturerProvCode','ManufacturingTypeEn','ManufacturingTypeFr',\n",
    "         'WebSiteEn','WebSiteFr','ParticularitiesEn','ParticularitiesFr',\n",
    "         'FlavourEn','FlavourFr','CharacteristicsEn','CharacteristicsFr',\n",
    "         'RindTypeFr','RindTypeEn','ManufacturerNameFr','CategoryTypeFr',\n",
    "         'RipeningFr','LastUpdateDate','MilkTypeFr','RipeningEn','MilkTypeEn',\n",
    "         'MilkTreatmentTypeEn','MilkTreatmentTypeFr','Organic','CategoryTypeEn'], \n",
    "         axis=1,inplace=True)\n",
    "\n",
    "df = df[(df['MoisturePercent'] != '') & (df['FatContentPercent'] != '')]\n",
    "df['MoisturePercent'] = df['MoisturePercent'].astype(float)\n",
    "df['FatContentPercent'] = df['FatContentPercent'].astype(float)"
   ]
  },
  {
   "cell_type": "code",
   "execution_count": 173,
   "metadata": {},
   "outputs": [
    {
     "name": "stdout",
     "output_type": "stream",
     "text": [
      "<class 'pandas.core.frame.DataFrame'>\n",
      "Int64Index: 985 entries, 0 to 1373\n",
      "Data columns (total 3 columns):\n",
      " #   Column             Non-Null Count  Dtype  \n",
      "---  ------             --------------  -----  \n",
      " 0   CheeseNameEn       985 non-null    object \n",
      " 1   FatContentPercent  985 non-null    float64\n",
      " 2   MoisturePercent    985 non-null    float64\n",
      "dtypes: float64(2), object(1)\n",
      "memory usage: 30.8+ KB\n"
     ]
    }
   ],
   "source": [
    "df.info()"
   ]
  },
  {
   "cell_type": "markdown",
   "metadata": {},
   "source": [
    "## Attempting to add the Target Column\n",
    "\n",
    "The imported dataset does not have the target column included. Below is my current attempt at adding the target column of red or white wine (red : 1 , white : 0)."
   ]
  },
  {
   "cell_type": "code",
   "execution_count": 174,
   "metadata": {},
   "outputs": [],
   "source": [
    "def get_cheese_name(x):\n",
    "    cheese_list = ['Gruyere','Blue','Brie','Gorgonzola','Idiazabal','Goat','Cheddar','Havarti','Raclette','Pecorino','Fiore Sardo','Edam','Gouda','Provolone']\n",
    "\n",
    "    for cheese in cheese_list:\n",
    "        if cheese in x:\n",
    "            return cheese.lower()\n",
    "\n",
    "def get_wine(x):\n",
    "    cheese_wine_dict = {'gruyere':1,'blue':1,'brie':0,'gorgonzoloa':0,'idiazabel':1,'goat':0,'cheddar':1,'havarti':0,'raclette':0,'pecorino':1,'fiore sardo':0,'edam':1,'gouda':0,'mozzarella':0,'provolone':1}\n",
    "    for cheese in cheese_wine_dict:\n",
    "        if cheese in x:\n",
    "            return cheese_wine_dict[cheese]"
   ]
  },
  {
   "cell_type": "code",
   "execution_count": 190,
   "metadata": {},
   "outputs": [],
   "source": [
    "df['short_name'] = df['CheeseNameEn'].map(get_cheese_name)\n",
    "df_clean = df.dropna().copy(deep=True)\n",
    "df_clean['wine'] = df_clean['short_name'].map(get_wine)\n",
    "X_train = df_clean.dropna().copy(deep=True)\n",
    "X_test = df[df['short_name'].isna()].copy(deep=True)\n",
    "y_train = X_train['wine']\n",
    "X_train = X_train.drop(['wine'],axis=1)\n",
    "\n",
    "X_train_name = X_train[['CheeseNameEn']].copy(deep=True)\n",
    "X_test_name = X_test[['CheeseNameEn']].copy(deep=True)\n",
    "X_train.drop(['CheeseNameEn','short_name'],axis=1,inplace=True)\n",
    "X_test.drop(['CheeseNameEn','short_name'],axis=1,inplace=True)"
   ]
  },
  {
   "cell_type": "markdown",
   "metadata": {},
   "source": [
    "From the recommmended wine pairings at the beginning I hard coded white or red for general cheese types. This only accounted for 96 of the ~1370 cheeses.\n",
    "\n",
    "For choosing what data to feed in for the model I included all cheeses where I was able to generate a target variable (see future research for additional plans for the model). This meant that there was no proper test dataset to calculate performance metrics on the model."
   ]
  },
  {
   "cell_type": "markdown",
   "metadata": {},
   "source": [
    "## Model"
   ]
  },
  {
   "cell_type": "code",
   "execution_count": 191,
   "metadata": {},
   "outputs": [
    {
     "data": {
      "text/plain": [
       "LogisticRegression(max_iter=10000, random_state=42)"
      ]
     },
     "execution_count": 191,
     "metadata": {},
     "output_type": "execute_result"
    }
   ],
   "source": [
    "# Scale the data\n",
    "scaler = StandardScaler()\n",
    "scaler.fit(X_train)\n",
    "X_train_sc = scaler.transform(X_train)\n",
    "X_test_sc = scaler.transform(X_test)\n",
    "\n",
    "# Run the model\n",
    "model = LogisticRegression(solver='lbfgs', max_iter=10000,\n",
    "                           random_state=42)\n",
    "model.fit(X_train_sc, y_train)"
   ]
  },
  {
   "cell_type": "code",
   "execution_count": 225,
   "metadata": {},
   "outputs": [],
   "source": [
    "y_test_pred = model.predict(X_test_sc)\n",
    "y_test_pred_df = pd.DataFrame(y_test_pred)\n",
    "y_test_pred_df.reset_index(drop=True,inplace=True)\n",
    "X_test_name.reset_index(drop=True,inplace=True)\n",
    "predictions = pd.concat([X_test_name,pd.DataFrame(y_test_pred)],axis=1,ignore_index=True)\n",
    "predictions.columns = ['Cheese','Red?']"
   ]
  },
  {
   "cell_type": "markdown",
   "metadata": {},
   "source": [
    "After generating the model I fed in the rest of the dataset to make predictions. Below are the probabilities for red or white for the first 5 cheeses along with the value count breakdown. The value count breakdown shows more white wine predictions than red wine."
   ]
  },
  {
   "cell_type": "code",
   "execution_count": 248,
   "metadata": {},
   "outputs": [
    {
     "data": {
      "text/plain": [
       "Red?\n",
       "0.0    566\n",
       "1.0    340\n",
       "dtype: int64"
      ]
     },
     "execution_count": 248,
     "metadata": {},
     "output_type": "execute_result"
    }
   ],
   "source": [
    "predictions.value_counts('Red?')"
   ]
  },
  {
   "cell_type": "code",
   "execution_count": 247,
   "metadata": {},
   "outputs": [
    {
     "data": {
      "text/html": [
       "<div>\n",
       "<style scoped>\n",
       "    .dataframe tbody tr th:only-of-type {\n",
       "        vertical-align: middle;\n",
       "    }\n",
       "\n",
       "    .dataframe tbody tr th {\n",
       "        vertical-align: top;\n",
       "    }\n",
       "\n",
       "    .dataframe thead th {\n",
       "        text-align: right;\n",
       "    }\n",
       "</style>\n",
       "<table border=\"1\" class=\"dataframe\">\n",
       "  <thead>\n",
       "    <tr style=\"text-align: right;\">\n",
       "      <th></th>\n",
       "      <th>White</th>\n",
       "      <th>Red</th>\n",
       "    </tr>\n",
       "  </thead>\n",
       "  <tbody>\n",
       "    <tr>\n",
       "      <th>0</th>\n",
       "      <td>0.649719</td>\n",
       "      <td>0.350281</td>\n",
       "    </tr>\n",
       "    <tr>\n",
       "      <th>1</th>\n",
       "      <td>0.841413</td>\n",
       "      <td>0.158587</td>\n",
       "    </tr>\n",
       "    <tr>\n",
       "      <th>2</th>\n",
       "      <td>0.237832</td>\n",
       "      <td>0.762168</td>\n",
       "    </tr>\n",
       "    <tr>\n",
       "      <th>3</th>\n",
       "      <td>0.486686</td>\n",
       "      <td>0.513314</td>\n",
       "    </tr>\n",
       "    <tr>\n",
       "      <th>4</th>\n",
       "      <td>0.439493</td>\n",
       "      <td>0.560507</td>\n",
       "    </tr>\n",
       "  </tbody>\n",
       "</table>\n",
       "</div>"
      ],
      "text/plain": [
       "      White       Red\n",
       "0  0.649719  0.350281\n",
       "1  0.841413  0.158587\n",
       "2  0.237832  0.762168\n",
       "3  0.486686  0.513314\n",
       "4  0.439493  0.560507"
      ]
     },
     "execution_count": 247,
     "metadata": {},
     "output_type": "execute_result"
    }
   ],
   "source": [
    "# Showing the Wine Probabilities for first 5 cheeses\n",
    "proba_predictions = model.predict_proba(X_test_sc)\n",
    "pd.DataFrame(proba_predictions,columns=['White','Red']).head()"
   ]
  },
  {
   "cell_type": "code",
   "execution_count": 245,
   "metadata": {},
   "outputs": [
    {
     "data": {
      "text/html": [
       "<div>\n",
       "<style scoped>\n",
       "    .dataframe tbody tr th:only-of-type {\n",
       "        vertical-align: middle;\n",
       "    }\n",
       "\n",
       "    .dataframe tbody tr th {\n",
       "        vertical-align: top;\n",
       "    }\n",
       "\n",
       "    .dataframe thead th {\n",
       "        text-align: right;\n",
       "    }\n",
       "</style>\n",
       "<table border=\"1\" class=\"dataframe\">\n",
       "  <thead>\n",
       "    <tr style=\"text-align: right;\">\n",
       "      <th></th>\n",
       "      <th>Cheese</th>\n",
       "      <th>Red?</th>\n",
       "    </tr>\n",
       "  </thead>\n",
       "  <tbody>\n",
       "    <tr>\n",
       "      <th>0</th>\n",
       "      <td>Paneer (Northumberland Co-operative)</td>\n",
       "      <td>0.0</td>\n",
       "    </tr>\n",
       "    <tr>\n",
       "      <th>1</th>\n",
       "      <td></td>\n",
       "      <td>0.0</td>\n",
       "    </tr>\n",
       "    <tr>\n",
       "      <th>2</th>\n",
       "      <td>Grana (Jerseyland Organic)</td>\n",
       "      <td>1.0</td>\n",
       "    </tr>\n",
       "    <tr>\n",
       "      <th>3</th>\n",
       "      <td>Feta (Jerseyland Organic)</td>\n",
       "      <td>1.0</td>\n",
       "    </tr>\n",
       "    <tr>\n",
       "      <th>4</th>\n",
       "      <td>Cracked Pepper Verdelait</td>\n",
       "      <td>1.0</td>\n",
       "    </tr>\n",
       "  </tbody>\n",
       "</table>\n",
       "</div>"
      ],
      "text/plain": [
       "                                 Cheese  Red?\n",
       "0  Paneer (Northumberland Co-operative)   0.0\n",
       "1                                         0.0\n",
       "2            Grana (Jerseyland Organic)   1.0\n",
       "3             Feta (Jerseyland Organic)   1.0\n",
       "4              Cracked Pepper Verdelait   1.0"
      ]
     },
     "execution_count": 245,
     "metadata": {},
     "output_type": "execute_result"
    }
   ],
   "source": [
    "predictions.head()"
   ]
  },
  {
   "cell_type": "code",
   "execution_count": 246,
   "metadata": {},
   "outputs": [
    {
     "data": {
      "text/html": [
       "<div>\n",
       "<style scoped>\n",
       "    .dataframe tbody tr th:only-of-type {\n",
       "        vertical-align: middle;\n",
       "    }\n",
       "\n",
       "    .dataframe tbody tr th {\n",
       "        vertical-align: top;\n",
       "    }\n",
       "\n",
       "    .dataframe thead th {\n",
       "        text-align: right;\n",
       "    }\n",
       "</style>\n",
       "<table border=\"1\" class=\"dataframe\">\n",
       "  <thead>\n",
       "    <tr style=\"text-align: right;\">\n",
       "      <th></th>\n",
       "      <th>Cheese</th>\n",
       "      <th>Red?</th>\n",
       "    </tr>\n",
       "  </thead>\n",
       "  <tbody>\n",
       "    <tr>\n",
       "      <th>901</th>\n",
       "      <td>Herb &amp; Garlic Halloom (Presidents Choice)</td>\n",
       "      <td>0.0</td>\n",
       "    </tr>\n",
       "    <tr>\n",
       "      <th>902</th>\n",
       "      <td>Halloumi (Farm Boy)</td>\n",
       "      <td>0.0</td>\n",
       "    </tr>\n",
       "    <tr>\n",
       "      <th>903</th>\n",
       "      <td>Spicy Halloumi (Farm Boy)</td>\n",
       "      <td>0.0</td>\n",
       "    </tr>\n",
       "    <tr>\n",
       "      <th>904</th>\n",
       "      <td>Halloumi (Dore mi)</td>\n",
       "      <td>0.0</td>\n",
       "    </tr>\n",
       "    <tr>\n",
       "      <th>905</th>\n",
       "      <td>Halloumi (Happy Dairy)</td>\n",
       "      <td>0.0</td>\n",
       "    </tr>\n",
       "  </tbody>\n",
       "</table>\n",
       "</div>"
      ],
      "text/plain": [
       "                                        Cheese  Red?\n",
       "901  Herb & Garlic Halloom (Presidents Choice)   0.0\n",
       "902                        Halloumi (Farm Boy)   0.0\n",
       "903                  Spicy Halloumi (Farm Boy)   0.0\n",
       "904                         Halloumi (Dore mi)   0.0\n",
       "905                     Halloumi (Happy Dairy)   0.0"
      ]
     },
     "execution_count": 246,
     "metadata": {},
     "output_type": "execute_result"
    }
   ],
   "source": [
    "predictions.tail()"
   ]
  },
  {
   "cell_type": "markdown",
   "metadata": {},
   "source": [
    "I pulled the first and last 5 predictions from the prediction dataframe to manually check a couple predictions. Paneer cheese should be eaten with white wine (correct) but Feta cheese should also be eaten with white wine (wrong). Halloumi Cheese should be eaten with white wine (correct). In addition, in general, white wine is the most common wine with cheese pairings (see citations) and the model has more white wine predictions than red."
   ]
  },
  {
   "cell_type": "markdown",
   "metadata": {},
   "source": [
    "## Conclusion and Future Research"
   ]
  },
  {
   "cell_type": "markdown",
   "metadata": {},
   "source": [
    "The below graph shows the breakdown for white or red based on the input variables for the training dataset."
   ]
  },
  {
   "cell_type": "code",
   "execution_count": 230,
   "metadata": {},
   "outputs": [
    {
     "data": {
      "image/png": "[encoded data removed]",
      "text/plain": [
       "<Figure size 720x360 with 2 Axes>"
      ]
     },
     "metadata": {
      "needs_background": "light"
     },
     "output_type": "display_data"
    }
   ],
   "source": [
    "fig, axes = plt.subplots(ncols=2,figsize=(10,5))\n",
    "\n",
    "axes[0].scatter(y = y_train, x=X_train.iloc[:,0], c='teal', alpha=0.1)\n",
    "axes[1].scatter(y = y_train, x=X_train.iloc[:,1], c='teal', alpha=0.1)\n",
    "\n",
    "axes[0].set_title('Fat Content Percent')\n",
    "axes[1].set_title('Moisture Percent')\n",
    "\n",
    "plt.show()"
   ]
  },
  {
   "cell_type": "markdown",
   "metadata": {},
   "source": [
    "With the current model not having a proper test dataset no conclusions can be made about the model performance. Further work on hard coding wine pairings to the original dataset would allow for a proper train/test split so performance metrics can be viewed and tweaked. In addition, more time can be spent on data cleaning to include other input variables such as ripen time, animal source and flavour into the model."
   ]
  },
  {
   "cell_type": "markdown",
   "metadata": {},
   "source": [
    "## Citations\n",
    "\n",
    "Cheese DataBase\n",
    "* https://open.canada.ca/data/dataset/3c16cd48-3ac3-453f-8260-6f745181c83b\n",
    "\n",
    "General Thoughts on Wine Pairing\n",
    "* https://www.cheese.com/wine_matching/\n",
    "\n",
    "Wine Pairing Table\n",
    "* https://winefolly.com/wine-pairing/12-classic-wine-and-cheese-pairings-you-have-to-try/\n",
    "\n",
    "White or Red in General for Cheese\n",
    "* https://www.castellocheese.com/en-us/articles/how-to-pair-white-wine-cheese/#:~:text=White%20wine%20is%20close%20to,wine%20with%20the%20right%20cheese."
   ]
  }
 ],
 "metadata": {
  "interpreter": {
   "hash": "40d3a090f54c6569ab1632332b64b2c03c39dcf918b08424e98f38b5ae0af88f"
  },
  "kernelspec": {
   "display_name": "Python 3.8.5 64-bit ('base': conda)",
   "name": "python3"
  },
  "language_info": {
   "codemirror_mode": {
    "name": "ipython",
    "version": 3
   },
   "file_extension": ".py",
   "mimetype": "text/x-python",
   "name": "python",
   "nbconvert_exporter": "python",
   "pygments_lexer": "ipython3",
   "version": "3.8.5"
  },
  "orig_nbformat": 4
 },
 "nbformat": 4,
 "nbformat_minor": 2
}
