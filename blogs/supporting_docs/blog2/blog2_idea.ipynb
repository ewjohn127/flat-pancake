{
 "cells": [
  {
   "cell_type": "markdown",
   "source": [
    "# Webscraping Blog"
   ],
   "metadata": {}
  },
  {
   "cell_type": "markdown",
   "source": [
    "## Selenium"
   ],
   "metadata": {}
  },
  {
   "cell_type": "markdown",
   "source": [
    "### Selenium WebDriver\n",
    "\n"
   ],
   "metadata": {}
  },
  {
   "cell_type": "markdown",
   "source": [
    "## Beautiful Soup"
   ],
   "metadata": {}
  },
  {
   "cell_type": "markdown",
   "source": [],
   "metadata": {}
  }
 ],
 "metadata": {
  "orig_nbformat": 4,
  "language_info": {
   "name": "python",
   "version": "3.8.5"
  },
  "kernelspec": {
   "name": "python3",
   "display_name": "Python 3.8.5 64-bit ('learn-env': conda)"
  },
  "interpreter": {
   "hash": "c15d3b161d9e31d3c14101c293414707f40e59d6cae0bbd6b708ca3d1e942f6f"
  }
 },
 "nbformat": 4,
 "nbformat_minor": 2
}