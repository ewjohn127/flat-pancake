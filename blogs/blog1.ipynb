{
 "cells": [
  {
   "cell_type": "markdown",
   "source": [
    "# Why Choose Data Science?"
   ],
   "metadata": {}
  },
  {
   "cell_type": "markdown",
   "source": [
    "If I could do college over again, I would major in computer science. \n",
    "\n",
    "I chose my degree of Chemical and Biomolecular Engineering based on my enjoyment of math/science during high school. I never deviated from this choice even as I neared the end of my college education and saw that most of my career opportunities were unappealing. I received virtually no exposure to computer science and was unaware of the potential career trajectories it could offer me.\n",
    "\n",
    "I ended up in my current career as a technical sales/consulting role directly out of college. I've been with my current company for 5 years and have been moving up the sales management ladder. Part of my job consists of small-scale data collection and analysis to optimize customer systems by delivering actionable insights. I've thoroughly enjoyed the limited \"data science\" experience I've had in this role and after speaking with friends in the finance world discovered data science, computer programming and bootcamp programs.\n",
    "\n",
    "My engineering background and career have given me the foundation to be successful in a corporate engineering/tech environment.  Instead of going back to college I'd like to quickly pivot into a more fulfilling role using the Flatiron Data Science course. "
   ],
   "metadata": {}
  },
  {
   "cell_type": "markdown",
   "source": [
    "# Career Goal"
   ],
   "metadata": {}
  },
  {
   "cell_type": "markdown",
   "source": [
    "Pivot at my existing company to a data scientist role. My company has made large investments in cloud services and data analytics for its customer's corporate visibility. I'd like to move from my sales role into a position that solely focuses in this area. I'll be leaving my company at the end of August to focus on the bootcamp full-time and reapplying to the new position after its completion. While this is my main goal I am opening to explore other potential career options and will be applying to other companies after finishing the program."
   ],
   "metadata": {}
  }
 ],
 "metadata": {
  "orig_nbformat": 4,
  "language_info": {
   "name": "python"
  }
 },
 "nbformat": 4,
 "nbformat_minor": 2
}