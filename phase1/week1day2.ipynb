{
 "cells": [
  {
   "cell_type": "markdown",
   "source": [
    "# Unix Commands"
   ],
   "metadata": {}
  },
  {
   "cell_type": "markdown",
   "source": [
    "## Navigating Directories"
   ],
   "metadata": {}
  },
  {
   "cell_type": "markdown",
   "source": [
    "## Command Line Options / Flags\n",
    "\n",
    "* single letter flags are preceded by -\n",
    "* full word flags are preceded by --"
   ],
   "metadata": {}
  },
  {
   "cell_type": "markdown",
   "source": [
    "# VIM Commands\n",
    "* i (enter insert mode)\n",
    "* :wq (save and exit)\n",
    "* :q! (save without saving)"
   ],
   "metadata": {}
  }
 ],
 "metadata": {
  "orig_nbformat": 4,
  "language_info": {
   "name": "python",
   "version": "3.8.5"
  },
  "kernelspec": {
   "name": "python3",
   "display_name": "Python 3.8.5 64-bit ('base': conda)"
  },
  "interpreter": {
   "hash": "dca0ade3e726a953b501b15e8e990130d2b7799f14cfd9f4271676035ebe5511"
  }
 },
 "nbformat": 4,
 "nbformat_minor": 2
}