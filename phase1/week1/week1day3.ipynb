{
 "cells": [
  {
   "cell_type": "markdown",
   "source": [
    "# Data Analysis in Base Python"
   ],
   "metadata": {}
  },
  {
   "cell_type": "markdown",
   "source": [
    "## Loading and Editing Data Files\n",
    "### * Types of Data Files\n",
    "* CSV Files (comma-separated value)\n",
    "* JSON Files (JavaScript object notation)"
   ],
   "metadata": {}
  },
  {
   "cell_type": "markdown",
   "source": [
    "### * Adding ! before code line lets you run unix commands"
   ],
   "metadata": {}
  },
  {
   "cell_type": "code",
   "execution_count": 1,
   "source": [
    "! ls"
   ],
   "outputs": [
    {
     "output_type": "stream",
     "name": "stdout",
     "text": [
      "Advertising.csv        week1day1.ipynb        week1day3.ipynb\n",
      "Pre-Work Review .ipynb week1day2.ipynb\n"
     ]
    }
   ],
   "metadata": {}
  },
  {
   "cell_type": "markdown",
   "source": [
    "### * Opening and Reading text file"
   ],
   "metadata": {}
  },
  {
   "cell_type": "code",
   "execution_count": 9,
   "source": [
    "file_path = 'zen_of_python.txt'\n",
    "file_obj = open(file_path)\n",
    "file_contents = file_obj.readlines()\n",
    "for line in file_contents:\n",
    "    print(line.replace('\\n',''))\n",
    "### OR\n",
    "\n",
    "# with open(file_path) as file_obj:\n",
    "#     file_contents = file_obj.readlines()"
   ],
   "outputs": [
    {
     "output_type": "stream",
     "name": "stdout",
     "text": [
      "The Zen of Python, by Tim Peters\n",
      "\n",
      "Beautiful is better than ugly.\n",
      "Explicit is better than implicit.\n",
      "Simple is better than complex.\n",
      "Complex is better than complicated.\n",
      "Flat is better than nested.\n",
      "Sparse is better than dense.\n",
      "Readability counts.\n",
      "Special cases aren't special enough to break the rules.\n",
      "Although practicality beats purity.\n",
      "Errors should never pass silently.\n",
      "Unless explicitly silenced.\n",
      "In the face of ambiguity, refuse the temptation to guess.\n",
      "There should be one-- and preferably only one --obvious way to do it.\n",
      "Although that way may not be obvious at first unless you're Dutch.\n",
      "Now is better than never.\n",
      "Although never is often better than *right* now.\n",
      "If the implementation is hard to explain, it's a bad idea.\n",
      "If the implementation is easy to explain, it may be a good idea.\n",
      "Namespaces are one honking great idea -- let's do more of those!\n"
     ]
    }
   ],
   "metadata": {}
  },
  {
   "cell_type": "markdown",
   "source": [
    "### * Writing to file"
   ],
   "metadata": {}
  },
  {
   "cell_type": "code",
   "execution_count": 8,
   "source": [
    "'''Creates new file if existing name does not exist'''\n",
    "\n",
    "output_file_obj = open('zen_of_python_2.txt', mode='w')"
   ],
   "outputs": [],
   "metadata": {}
  },
  {
   "cell_type": "code",
   "execution_count": 10,
   "source": [
    "for line in file_contents:\n",
    "    output_file_obj.write(line)"
   ],
   "outputs": [],
   "metadata": {}
  },
  {
   "cell_type": "markdown",
   "source": [
    "* Need to close file after finishing to release RAM and that data is written to disc"
   ],
   "metadata": {}
  },
  {
   "cell_type": "code",
   "execution_count": 11,
   "source": [
    "file_obj.close()\n",
    "output_file_obj.close()"
   ],
   "outputs": [],
   "metadata": {}
  },
  {
   "cell_type": "markdown",
   "source": [
    "* Other options for reading file\n",
    "    * <pre><code>.read()</code></pre> will read the entire contents into a single string\n",
    "    * <code><pre> .read(size)</code></pre> will read up to size number of characters into a single string\n",
    "    * <code><pre>.readline()</code></pre> will read just one line of the file into a string"
   ],
   "metadata": {}
  },
  {
   "cell_type": "markdown",
   "source": [
    "## Loading and editing CSV files"
   ],
   "metadata": {}
  },
  {
   "cell_type": "code",
   "execution_count": 2,
   "source": [
    "import csv\n",
    "\n",
    "with open(\"advertising.csv\") as f:\n",
    "    # Pass the file in to a \"reader\" object and specify that\n",
    "    # values without explicit quotes (i.e. all values in this\n",
    "    # dataset) should be treated as numbers\n",
    "    reader = csv.reader(f, quoting=csv.QUOTE_NONNUMERIC)\n",
    "    # Get all of the data from the reader using `list`\n",
    "    advertising_with_csv_module = list(reader)\n",
    "    \n",
    "advertising_with_csv_module"
   ],
   "outputs": [
    {
     "output_type": "execute_result",
     "data": {
      "text/plain": [
       "[['', 'TV', 'Radio', 'Newspaper', 'Sales'],\n",
       " ['1', 230.1, 37.8, 69.2, 22.1],\n",
       " ['2', 44.5, 39.3, 45.1, 10.4],\n",
       " ['3', 17.2, 45.9, 69.3, 9.3],\n",
       " ['4', 151.5, 41.3, 58.5, 18.5],\n",
       " ['5', 180.8, 10.8, 58.4, 12.9],\n",
       " ['6', 8.7, 48.9, 75.0, 7.2],\n",
       " ['7', 57.5, 32.8, 23.5, 11.8],\n",
       " ['8', 120.2, 19.6, 11.6, 13.2],\n",
       " ['9', 8.6, 2.1, 1.0, 4.8],\n",
       " ['10', 199.8, 2.6, 21.2, 10.6],\n",
       " ['11', 66.1, 5.8, 24.2, 8.6],\n",
       " ['12', 214.7, 24.0, 4.0, 17.4],\n",
       " ['13', 23.8, 35.1, 65.9, 9.2],\n",
       " ['14', 97.5, 7.6, 7.2, 9.7],\n",
       " ['15', 204.1, 32.9, 46.0, 19.0],\n",
       " ['16', 195.4, 47.7, 52.9, 22.4],\n",
       " ['17', 67.8, 36.6, 114.0, 12.5],\n",
       " ['18', 281.4, 39.6, 55.8, 24.4],\n",
       " ['19', 69.2, 20.5, 18.3, 11.3],\n",
       " ['20', 147.3, 23.9, 19.1, 14.6],\n",
       " ['21', 218.4, 27.7, 53.4, 18.0],\n",
       " ['22', 237.4, 5.1, 23.5, 12.5],\n",
       " ['23', 13.2, 15.9, 49.6, 5.6],\n",
       " ['24', 228.3, 16.9, 26.2, 15.5],\n",
       " ['25', 62.3, 12.6, 18.3, 9.7],\n",
       " ['26', 262.9, 3.5, 19.5, 12.0],\n",
       " ['27', 142.9, 29.3, 12.6, 15.0],\n",
       " ['28', 240.1, 16.7, 22.9, 15.9],\n",
       " ['29', 248.8, 27.1, 22.9, 18.9],\n",
       " ['30', 70.6, 16.0, 40.8, 10.5],\n",
       " ['31', 292.9, 28.3, 43.2, 21.4],\n",
       " ['32', 112.9, 17.4, 38.6, 11.9],\n",
       " ['33', 97.2, 1.5, 30.0, 9.6],\n",
       " ['34', 265.6, 20.0, 0.3, 17.4],\n",
       " ['35', 95.7, 1.4, 7.4, 9.5],\n",
       " ['36', 290.7, 4.1, 8.5, 12.8],\n",
       " ['37', 266.9, 43.8, 5.0, 25.4],\n",
       " ['38', 74.7, 49.4, 45.7, 14.7],\n",
       " ['39', 43.1, 26.7, 35.1, 10.1],\n",
       " ['40', 228.0, 37.7, 32.0, 21.5],\n",
       " ['41', 202.5, 22.3, 31.6, 16.6],\n",
       " ['42', 177.0, 33.4, 38.7, 17.1],\n",
       " ['43', 293.6, 27.7, 1.8, 20.7],\n",
       " ['44', 206.9, 8.4, 26.4, 12.9],\n",
       " ['45', 25.1, 25.7, 43.3, 8.5],\n",
       " ['46', 175.1, 22.5, 31.5, 14.9],\n",
       " ['47', 89.7, 9.9, 35.7, 10.6],\n",
       " ['48', 239.9, 41.5, 18.5, 23.2],\n",
       " ['49', 227.2, 15.8, 49.9, 14.8],\n",
       " ['50', 66.9, 11.7, 36.8, 9.7],\n",
       " ['51', 199.8, 3.1, 34.6, 11.4],\n",
       " ['52', 100.4, 9.6, 3.6, 10.7],\n",
       " ['53', 216.4, 41.7, 39.6, 22.6],\n",
       " ['54', 182.6, 46.2, 58.7, 21.2],\n",
       " ['55', 262.7, 28.8, 15.9, 20.2],\n",
       " ['56', 198.9, 49.4, 60.0, 23.7],\n",
       " ['57', 7.3, 28.1, 41.4, 5.5],\n",
       " ['58', 136.2, 19.2, 16.6, 13.2],\n",
       " ['59', 210.8, 49.6, 37.7, 23.8],\n",
       " ['60', 210.7, 29.5, 9.3, 18.4],\n",
       " ['61', 53.5, 2.0, 21.4, 8.1],\n",
       " ['62', 261.3, 42.7, 54.7, 24.2],\n",
       " ['63', 239.3, 15.5, 27.3, 15.7],\n",
       " ['64', 102.7, 29.6, 8.4, 14.0],\n",
       " ['65', 131.1, 42.8, 28.9, 18.0],\n",
       " ['66', 69.0, 9.3, 0.9, 9.3],\n",
       " ['67', 31.5, 24.6, 2.2, 9.5],\n",
       " ['68', 139.3, 14.5, 10.2, 13.4],\n",
       " ['69', 237.4, 27.5, 11.0, 18.9],\n",
       " ['70', 216.8, 43.9, 27.2, 22.3],\n",
       " ['71', 199.1, 30.6, 38.7, 18.3],\n",
       " ['72', 109.8, 14.3, 31.7, 12.4],\n",
       " ['73', 26.8, 33.0, 19.3, 8.8],\n",
       " ['74', 129.4, 5.7, 31.3, 11.0],\n",
       " ['75', 213.4, 24.6, 13.1, 17.0],\n",
       " ['76', 16.9, 43.7, 89.4, 8.7],\n",
       " ['77', 27.5, 1.6, 20.7, 6.9],\n",
       " ['78', 120.5, 28.5, 14.2, 14.2],\n",
       " ['79', 5.4, 29.9, 9.4, 5.3],\n",
       " ['80', 116.0, 7.7, 23.1, 11.0],\n",
       " ['81', 76.4, 26.7, 22.3, 11.8],\n",
       " ['82', 239.8, 4.1, 36.9, 12.3],\n",
       " ['83', 75.3, 20.3, 32.5, 11.3],\n",
       " ['84', 68.4, 44.5, 35.6, 13.6],\n",
       " ['85', 213.5, 43.0, 33.8, 21.7],\n",
       " ['86', 193.2, 18.4, 65.7, 15.2],\n",
       " ['87', 76.3, 27.5, 16.0, 12.0],\n",
       " ['88', 110.7, 40.6, 63.2, 16.0],\n",
       " ['89', 88.3, 25.5, 73.4, 12.9],\n",
       " ['90', 109.8, 47.8, 51.4, 16.7],\n",
       " ['91', 134.3, 4.9, 9.3, 11.2],\n",
       " ['92', 28.6, 1.5, 33.0, 7.3],\n",
       " ['93', 217.7, 33.5, 59.0, 19.4],\n",
       " ['94', 250.9, 36.5, 72.3, 22.2],\n",
       " ['95', 107.4, 14.0, 10.9, 11.5],\n",
       " ['96', 163.3, 31.6, 52.9, 16.9],\n",
       " ['97', 197.6, 3.5, 5.9, 11.7],\n",
       " ['98', 184.9, 21.0, 22.0, 15.5],\n",
       " ['99', 289.7, 42.3, 51.2, 25.4],\n",
       " ['100', 135.2, 41.7, 45.9, 17.2],\n",
       " ['101', 222.4, 4.3, 49.8, 11.7],\n",
       " ['102', 296.4, 36.3, 100.9, 23.8],\n",
       " ['103', 280.2, 10.1, 21.4, 14.8],\n",
       " ['104', 187.9, 17.2, 17.9, 14.7],\n",
       " ['105', 238.2, 34.3, 5.3, 20.7],\n",
       " ['106', 137.9, 46.4, 59.0, 19.2],\n",
       " ['107', 25.0, 11.0, 29.7, 7.2],\n",
       " ['108', 90.4, 0.3, 23.2, 8.7],\n",
       " ['109', 13.1, 0.4, 25.6, 5.3],\n",
       " ['110', 255.4, 26.9, 5.5, 19.8],\n",
       " ['111', 225.8, 8.2, 56.5, 13.4],\n",
       " ['112', 241.7, 38.0, 23.2, 21.8],\n",
       " ['113', 175.7, 15.4, 2.4, 14.1],\n",
       " ['114', 209.6, 20.6, 10.7, 15.9],\n",
       " ['115', 78.2, 46.8, 34.5, 14.6],\n",
       " ['116', 75.1, 35.0, 52.7, 12.6],\n",
       " ['117', 139.2, 14.3, 25.6, 12.2],\n",
       " ['118', 76.4, 0.8, 14.8, 9.4],\n",
       " ['119', 125.7, 36.9, 79.2, 15.9],\n",
       " ['120', 19.4, 16.0, 22.3, 6.6],\n",
       " ['121', 141.3, 26.8, 46.2, 15.5],\n",
       " ['122', 18.8, 21.7, 50.4, 7.0],\n",
       " ['123', 224.0, 2.4, 15.6, 11.6],\n",
       " ['124', 123.1, 34.6, 12.4, 15.2],\n",
       " ['125', 229.5, 32.3, 74.2, 19.7],\n",
       " ['126', 87.2, 11.8, 25.9, 10.6],\n",
       " ['127', 7.8, 38.9, 50.6, 6.6],\n",
       " ['128', 80.2, 0.0, 9.2, 8.8],\n",
       " ['129', 220.3, 49.0, 3.2, 24.7],\n",
       " ['130', 59.6, 12.0, 43.1, 9.7],\n",
       " ['131', 0.7, 39.6, 8.7, 1.6],\n",
       " ['132', 265.2, 2.9, 43.0, 12.7],\n",
       " ['133', 8.4, 27.2, 2.1, 5.7],\n",
       " ['134', 219.8, 33.5, 45.1, 19.6],\n",
       " ['135', 36.9, 38.6, 65.6, 10.8],\n",
       " ['136', 48.3, 47.0, 8.5, 11.6],\n",
       " ['137', 25.6, 39.0, 9.3, 9.5],\n",
       " ['138', 273.7, 28.9, 59.7, 20.8],\n",
       " ['139', 43.0, 25.9, 20.5, 9.6],\n",
       " ['140', 184.9, 43.9, 1.7, 20.7],\n",
       " ['141', 73.4, 17.0, 12.9, 10.9],\n",
       " ['142', 193.7, 35.4, 75.6, 19.2],\n",
       " ['143', 220.5, 33.2, 37.9, 20.1],\n",
       " ['144', 104.6, 5.7, 34.4, 10.4],\n",
       " ['145', 96.2, 14.8, 38.9, 11.4],\n",
       " ['146', 140.3, 1.9, 9.0, 10.3],\n",
       " ['147', 240.1, 7.3, 8.7, 13.2],\n",
       " ['148', 243.2, 49.0, 44.3, 25.4],\n",
       " ['149', 38.0, 40.3, 11.9, 10.9],\n",
       " ['150', 44.7, 25.8, 20.6, 10.1],\n",
       " ['151', 280.7, 13.9, 37.0, 16.1],\n",
       " ['152', 121.0, 8.4, 48.7, 11.6],\n",
       " ['153', 197.6, 23.3, 14.2, 16.6],\n",
       " ['154', 171.3, 39.7, 37.7, 19.0],\n",
       " ['155', 187.8, 21.1, 9.5, 15.6],\n",
       " ['156', 4.1, 11.6, 5.7, 3.2],\n",
       " ['157', 93.9, 43.5, 50.5, 15.3],\n",
       " ['158', 149.8, 1.3, 24.3, 10.1],\n",
       " ['159', 11.7, 36.9, 45.2, 7.3],\n",
       " ['160', 131.7, 18.4, 34.6, 12.9],\n",
       " ['161', 172.5, 18.1, 30.7, 14.4],\n",
       " ['162', 85.7, 35.8, 49.3, 13.3],\n",
       " ['163', 188.4, 18.1, 25.6, 14.9],\n",
       " ['164', 163.5, 36.8, 7.4, 18.0],\n",
       " ['165', 117.2, 14.7, 5.4, 11.9],\n",
       " ['166', 234.5, 3.4, 84.8, 11.9],\n",
       " ['167', 17.9, 37.6, 21.6, 8.0],\n",
       " ['168', 206.8, 5.2, 19.4, 12.2],\n",
       " ['169', 215.4, 23.6, 57.6, 17.1],\n",
       " ['170', 284.3, 10.6, 6.4, 15.0],\n",
       " ['171', 50.0, 11.6, 18.4, 8.4],\n",
       " ['172', 164.5, 20.9, 47.4, 14.5],\n",
       " ['173', 19.6, 20.1, 17.0, 7.6],\n",
       " ['174', 168.4, 7.1, 12.8, 11.7],\n",
       " ['175', 222.4, 3.4, 13.1, 11.5],\n",
       " ['176', 276.9, 48.9, 41.8, 27.0],\n",
       " ['177', 248.4, 30.2, 20.3, 20.2],\n",
       " ['178', 170.2, 7.8, 35.2, 11.7],\n",
       " ['179', 276.7, 2.3, 23.7, 11.8],\n",
       " ['180', 165.6, 10.0, 17.6, 12.6],\n",
       " ['181', 156.6, 2.6, 8.3, 10.5],\n",
       " ['182', 218.5, 5.4, 27.4, 12.2],\n",
       " ['183', 56.2, 5.7, 29.7, 8.7],\n",
       " ['184', 287.6, 43.0, 71.8, 26.2],\n",
       " ['185', 253.8, 21.3, 30.0, 17.6],\n",
       " ['186', 205.0, 45.1, 19.6, 22.6],\n",
       " ['187', 139.5, 2.1, 26.6, 10.3],\n",
       " ['188', 191.1, 28.7, 18.2, 17.3],\n",
       " ['189', 286.0, 13.9, 3.7, 15.9],\n",
       " ['190', 18.7, 12.1, 23.4, 6.7],\n",
       " ['191', 39.5, 41.1, 5.8, 10.8],\n",
       " ['192', 75.5, 10.8, 6.0, 9.9],\n",
       " ['193', 17.2, 4.1, 31.6, 5.9],\n",
       " ['194', 166.8, 42.0, 3.6, 19.6],\n",
       " ['195', 149.7, 35.6, 6.0, 17.3],\n",
       " ['196', 38.2, 3.7, 13.8, 7.6],\n",
       " ['197', 94.2, 4.9, 8.1, 9.7],\n",
       " ['198', 177.0, 9.3, 6.4, 12.8],\n",
       " ['199', 283.6, 42.0, 66.2, 25.5],\n",
       " ['200', 232.1, 8.6, 8.7, 13.4]]"
      ]
     },
     "metadata": {},
     "execution_count": 2
    }
   ],
   "metadata": {}
  },
  {
   "cell_type": "markdown",
   "source": [
    "## Loading and Editing JSON Files"
   ],
   "metadata": {}
  },
  {
   "cell_type": "code",
   "execution_count": 19,
   "source": [
    "import json\n",
    "import pandas as pd\n",
    "\n",
    "with open('iris.json') as f:\n",
    "    data = json.load(f)\n",
    "\n",
    "df = pd.DataFrame(data)\n",
    "df\n"
   ],
   "outputs": [
    {
     "output_type": "execute_result",
     "data": {
      "text/plain": [
       "     sepalLength  sepalWidth  petalLength  petalWidth    species\n",
       "0            5.1         3.5          1.4         0.2     setosa\n",
       "1            4.9         3.0          1.4         0.2     setosa\n",
       "2            4.7         3.2          1.3         0.2     setosa\n",
       "3            4.6         3.1          1.5         0.2     setosa\n",
       "4            5.0         3.6          1.4         0.2     setosa\n",
       "..           ...         ...          ...         ...        ...\n",
       "145          6.7         3.0          5.2         2.3  virginica\n",
       "146          6.3         2.5          5.0         1.9  virginica\n",
       "147          6.5         3.0          5.2         2.0  virginica\n",
       "148          6.2         3.4          5.4         2.3  virginica\n",
       "149          5.9         3.0          5.1         1.8  virginica\n",
       "\n",
       "[150 rows x 5 columns]"
      ],
      "text/html": [
       "<div>\n",
       "<style scoped>\n",
       "    .dataframe tbody tr th:only-of-type {\n",
       "        vertical-align: middle;\n",
       "    }\n",
       "\n",
       "    .dataframe tbody tr th {\n",
       "        vertical-align: top;\n",
       "    }\n",
       "\n",
       "    .dataframe thead th {\n",
       "        text-align: right;\n",
       "    }\n",
       "</style>\n",
       "<table border=\"1\" class=\"dataframe\">\n",
       "  <thead>\n",
       "    <tr style=\"text-align: right;\">\n",
       "      <th></th>\n",
       "      <th>sepalLength</th>\n",
       "      <th>sepalWidth</th>\n",
       "      <th>petalLength</th>\n",
       "      <th>petalWidth</th>\n",
       "      <th>species</th>\n",
       "    </tr>\n",
       "  </thead>\n",
       "  <tbody>\n",
       "    <tr>\n",
       "      <th>0</th>\n",
       "      <td>5.1</td>\n",
       "      <td>3.5</td>\n",
       "      <td>1.4</td>\n",
       "      <td>0.2</td>\n",
       "      <td>setosa</td>\n",
       "    </tr>\n",
       "    <tr>\n",
       "      <th>1</th>\n",
       "      <td>4.9</td>\n",
       "      <td>3.0</td>\n",
       "      <td>1.4</td>\n",
       "      <td>0.2</td>\n",
       "      <td>setosa</td>\n",
       "    </tr>\n",
       "    <tr>\n",
       "      <th>2</th>\n",
       "      <td>4.7</td>\n",
       "      <td>3.2</td>\n",
       "      <td>1.3</td>\n",
       "      <td>0.2</td>\n",
       "      <td>setosa</td>\n",
       "    </tr>\n",
       "    <tr>\n",
       "      <th>3</th>\n",
       "      <td>4.6</td>\n",
       "      <td>3.1</td>\n",
       "      <td>1.5</td>\n",
       "      <td>0.2</td>\n",
       "      <td>setosa</td>\n",
       "    </tr>\n",
       "    <tr>\n",
       "      <th>4</th>\n",
       "      <td>5.0</td>\n",
       "      <td>3.6</td>\n",
       "      <td>1.4</td>\n",
       "      <td>0.2</td>\n",
       "      <td>setosa</td>\n",
       "    </tr>\n",
       "    <tr>\n",
       "      <th>...</th>\n",
       "      <td>...</td>\n",
       "      <td>...</td>\n",
       "      <td>...</td>\n",
       "      <td>...</td>\n",
       "      <td>...</td>\n",
       "    </tr>\n",
       "    <tr>\n",
       "      <th>145</th>\n",
       "      <td>6.7</td>\n",
       "      <td>3.0</td>\n",
       "      <td>5.2</td>\n",
       "      <td>2.3</td>\n",
       "      <td>virginica</td>\n",
       "    </tr>\n",
       "    <tr>\n",
       "      <th>146</th>\n",
       "      <td>6.3</td>\n",
       "      <td>2.5</td>\n",
       "      <td>5.0</td>\n",
       "      <td>1.9</td>\n",
       "      <td>virginica</td>\n",
       "    </tr>\n",
       "    <tr>\n",
       "      <th>147</th>\n",
       "      <td>6.5</td>\n",
       "      <td>3.0</td>\n",
       "      <td>5.2</td>\n",
       "      <td>2.0</td>\n",
       "      <td>virginica</td>\n",
       "    </tr>\n",
       "    <tr>\n",
       "      <th>148</th>\n",
       "      <td>6.2</td>\n",
       "      <td>3.4</td>\n",
       "      <td>5.4</td>\n",
       "      <td>2.3</td>\n",
       "      <td>virginica</td>\n",
       "    </tr>\n",
       "    <tr>\n",
       "      <th>149</th>\n",
       "      <td>5.9</td>\n",
       "      <td>3.0</td>\n",
       "      <td>5.1</td>\n",
       "      <td>1.8</td>\n",
       "      <td>virginica</td>\n",
       "    </tr>\n",
       "  </tbody>\n",
       "</table>\n",
       "<p>150 rows × 5 columns</p>\n",
       "</div>"
      ]
     },
     "metadata": {},
     "execution_count": 19
    }
   ],
   "metadata": {}
  },
  {
   "cell_type": "markdown",
   "source": [
    "## Outputting to JSON"
   ],
   "metadata": {}
  },
  {
   "cell_type": "code",
   "execution_count": null,
   "source": [
    "with open('doc to write to', 'w') as f:\n",
    "    json.dump(data_to_dump, f)"
   ],
   "outputs": [],
   "metadata": {}
  },
  {
   "cell_type": "markdown",
   "source": [
    "_____________________________________________________________________________"
   ],
   "metadata": {}
  },
  {
   "cell_type": "markdown",
   "source": [
    "# Comprehensions"
   ],
   "metadata": {}
  },
  {
   "cell_type": "markdown",
   "source": [
    "## List Comprehensions"
   ],
   "metadata": {}
  },
  {
   "cell_type": "code",
   "execution_count": 3,
   "source": [
    "'''pulls odd numbers from set into new list'''\n",
    "nums = set(range(1000))\n",
    "odds = [num for num in nums if num % 2 == 1]"
   ],
   "outputs": [],
   "metadata": {}
  },
  {
   "cell_type": "code",
   "execution_count": 4,
   "source": [
    "'''pulls first letter from each element'''\n",
    "words = ['carbon', 'osmium', 'mercury', 'potassium', 'rhenium', 'einsteinium',\n",
    "        'hydrogen', 'erbium', 'nitrogen', 'sulfur', 'iodine', 'oxygen', 'niobium']\n",
    "\n",
    "first_c = [c[0] for c in words]\n",
    "first_c"
   ],
   "outputs": [
    {
     "output_type": "execute_result",
     "data": {
      "text/plain": [
       "['c', 'o', 'm', 'p', 'r', 'e', 'h', 'e', 'n', 's', 'i', 'o', 'n']"
      ]
     },
     "metadata": {},
     "execution_count": 4
    }
   ],
   "metadata": {}
  },
  {
   "cell_type": "markdown",
   "source": [
    "## Dictionary Comprehensions"
   ],
   "metadata": {}
  },
  {
   "cell_type": "code",
   "execution_count": 5,
   "source": [
    "{k: v for k, v in zip(range(5), range(0, 10, 2))}"
   ],
   "outputs": [
    {
     "output_type": "execute_result",
     "data": {
      "text/plain": [
       "{0: 0, 1: 2, 2: 4, 3: 6, 4: 8}"
      ]
     },
     "metadata": {},
     "execution_count": 5
    }
   ],
   "metadata": {}
  },
  {
   "cell_type": "code",
   "execution_count": 6,
   "source": [
    "scores = [.858, .873, .868]\n",
    "{'model' + str(j+1): scores[j] for j in range(3)}"
   ],
   "outputs": [
    {
     "output_type": "execute_result",
     "data": {
      "text/plain": [
       "{'model1': 0.858, 'model2': 0.873, 'model3': 0.868}"
      ]
     },
     "metadata": {},
     "execution_count": 6
    }
   ],
   "metadata": {}
  },
  {
   "cell_type": "markdown",
   "source": [
    "## Nested Structures"
   ],
   "metadata": {}
  },
  {
   "cell_type": "code",
   "execution_count": 7,
   "source": [
    "phone_nos = [{'name': 'greg', 'nums': {'home': 1234567, 'work': 7654321}},\n",
    "          {'name': 'max', 'nums': {'home': 9876543, 'work': 1010001}},\n",
    "            {'name': 'erin', 'nums': {'home': 3333333, 'work': 4444444}},\n",
    "            {'name': 'joél', 'nums': {'home': 2222222, 'work': 5555555}},\n",
    "            {'name': 'sean', 'nums': {'home': 9999999, 'work': 8888888}}]"
   ],
   "outputs": [],
   "metadata": {}
  },
  {
   "cell_type": "code",
   "execution_count": 12,
   "source": [
    "\n",
    "name_list = [dict_['name'] for dict_ in phone_nos]\n",
    "num_list = [dict_['nums']['home'] for dict_ in phone_nos]\n",
    "fin_dict = [{k : v} for k,v in zip(name_list,num_list)]\n",
    "fin_dict\n"
   ],
   "outputs": [
    {
     "output_type": "execute_result",
     "data": {
      "text/plain": [
       "[{'greg': 1234567},\n",
       " {'max': 9876543},\n",
       " {'erin': 3333333},\n",
       " {'joél': 2222222},\n",
       " {'sean': 9999999}]"
      ]
     },
     "metadata": {},
     "execution_count": 12
    }
   ],
   "metadata": {}
  }
 ],
 "metadata": {
  "interpreter": {
   "hash": "dca0ade3e726a953b501b15e8e990130d2b7799f14cfd9f4271676035ebe5511"
  },
  "kernelspec": {
   "name": "python3",
   "display_name": "Python 3.8.5 64-bit ('base': conda)"
  },
  "language_info": {
   "codemirror_mode": {
    "name": "ipython",
    "version": 3
   },
   "file_extension": ".py",
   "mimetype": "text/x-python",
   "name": "python",
   "nbconvert_exporter": "python",
   "pygments_lexer": "ipython3",
   "version": "3.8.5"
  }
 },
 "nbformat": 4,
 "nbformat_minor": 2
}